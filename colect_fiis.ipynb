{
 "cells": [
  {
   "cell_type": "code",
   "execution_count": 192,
   "metadata": {},
   "outputs": [],
   "source": [
    "import pandas as pd\n",
    "import numpy as np\n",
    "import requests\n",
    "from selenium import webdriver\n",
    "from selenium.webdriver.chrome.options import Options\n",
    "from selenium.webdriver.support.ui import WebDriverWait\n",
    "from selenium.webdriver.support import expected_conditions as EC\n",
    "import pandas as pd\n",
    "import time"
   ]
  },
  {
   "cell_type": "code",
   "execution_count": 193,
   "metadata": {},
   "outputs": [
    {
     "name": "stderr",
     "output_type": "stream",
     "text": [
      "/tmp/ipykernel_12913/2965704421.py:21: FutureWarning: Passing literal html to 'read_html' is deprecated and will be removed in a future version. To read from a literal string, wrap it in a 'StringIO' object.\n",
      "  df = pd.read_html(html)[0]\n"
     ]
    },
    {
     "name": "stdout",
     "output_type": "stream",
     "text": [
      "Data successfully scraped!\n",
      "   Fundos       Setor Liquidez Diária (R$)  P/VP Dividend Yield  \\\n",
      "0  AAGR11  Indefinido             5.848,90   NaN         1,03 %   \n",
      "1  AAZQ11  Indefinido           654.462,24  70.0         1,35 %   \n",
      "2  ABCP11   Shoppings            60.839,95  70.0         0,90 %   \n",
      "3  AFHI11      Papéis         1.111.830,95  94.0         1,07 %   \n",
      "4  AGRX11      Outros           383.579,90   NaN         0,81 %   \n",
      "\n",
      "  Variação Preço Patrimônio Líquido Num. Cotistas  \n",
      "0        -1,50 %                NaN             0  \n",
      "1         4,31 %     208.745.497,59        29.829  \n",
      "2         2,18 %     503.496.718,25        15.558  \n",
      "3        -5,29 %     432.224.228,96        42.539  \n",
      "4       -20,22 %                NaN             0  \n"
     ]
    }
   ],
   "source": [
    "from selenium import webdriver\n",
    "from selenium.webdriver.chrome.options import Options\n",
    "from selenium.webdriver.support.ui import WebDriverWait\n",
    "from selenium.webdriver.support import expected_conditions as EC\n",
    "import pandas as pd\n",
    "import time\n",
    "\n",
    "chrome_options = Options()\n",
    "chrome_options.add_argument('--headless')  # Run in background\n",
    "chrome_options.add_argument('--no-sandbox')\n",
    "chrome_options.add_argument('--disable-dev-shm-usage')\n",
    "chrome_options.add_argument('--disable-notifications')\n",
    "\n",
    "driver = webdriver.Chrome(options=chrome_options)\n",
    "\n",
    "url = \"https://www.fundsexplorer.com.br/ranking\"\n",
    "driver.get(url)\n",
    "time.sleep(5)\n",
    "\n",
    "html = driver.page_source\n",
    "df = pd.read_html(html)[0]\n",
    "\n",
    "driver.quit()\n",
    "\n",
    "print(\"Data successfully scraped!\")\n",
    "print(df.head())"
   ]
  },
  {
   "cell_type": "code",
   "execution_count": 194,
   "metadata": {},
   "outputs": [
    {
     "name": "stdout",
     "output_type": "stream",
     "text": [
      "Quantidade de Setores: 23\n",
      "Setor\n",
      "Indefinido                          116\n",
      "Papéis                               94\n",
      "Lajes Corporativas                   60\n",
      "Misto                                44\n",
      "Imóveis Industriais e Logísticos     44\n",
      "Fundo de Fundos                      35\n",
      "Fundo de Desenvolvimento             35\n",
      "Shoppings                            29\n",
      "Imóveis Residenciais                 10\n",
      "Imóveis Comerciais - Outros           7\n",
      "Hospitalar                            6\n",
      "Educacional                           5\n",
      "Varejo                                5\n",
      "Agências de Bancos                    5\n",
      "Outros                                4\n",
      "Serviços Financeiros Diversos         4\n",
      "Hotéis                                4\n",
      "Incorporações                         2\n",
      "Logística                             2\n",
      "Fiagro                                1\n",
      "Agricultura                           1\n",
      "Tecidos. Vestuário e Calçados         1\n",
      "Name: count, dtype: int64\n"
     ]
    }
   ],
   "source": [
    "df = pd.read_csv('/home/wvmwill/enviroment/analytics-fii/funds_explorer_data.csv')\n",
    "\n",
    "df.head()\n",
    "\n",
    "sectors = df['Setor'].unique()\n",
    "contagem = df['Setor'].value_counts()\n",
    "print(f\"Quantidade de Setores: {len((sectors))}\")\n",
    "print(contagem)"
   ]
  },
  {
   "cell_type": "code",
   "execution_count": 195,
   "metadata": {},
   "outputs": [
    {
     "data": {
      "text/plain": [
       "Fundos                   0\n",
       "Setor                    1\n",
       "Liquidez Diária (R$)    47\n",
       "P/VP                    71\n",
       "Dividend Yield           3\n",
       "Variação Preço           3\n",
       "Patrimônio Líquido      46\n",
       "Num. Cotistas            0\n",
       "dtype: int64"
      ]
     },
     "execution_count": 195,
     "metadata": {},
     "output_type": "execute_result"
    }
   ],
   "source": [
    "df.isna().sum()"
   ]
  },
  {
   "cell_type": "code",
   "execution_count": 196,
   "metadata": {},
   "outputs": [],
   "source": [
    "data_categoricals = ['Fundos', 'Setor']\n",
    "idx = df[df['Setor'].isna()].index"
   ]
  },
  {
   "cell_type": "code",
   "execution_count": 197,
   "metadata": {},
   "outputs": [],
   "source": [
    "df.drop(idx, inplace=True)"
   ]
  },
  {
   "cell_type": "code",
   "execution_count": 198,
   "metadata": {},
   "outputs": [
    {
     "data": {
      "text/plain": [
       "Fundos                  category\n",
       "Setor                   category\n",
       "Liquidez Diária (R$)      object\n",
       "P/VP                     float64\n",
       "Dividend Yield            object\n",
       "Variação Preço            object\n",
       "Patrimônio Líquido        object\n",
       "Num. Cotistas             object\n",
       "dtype: object"
      ]
     },
     "execution_count": 198,
     "metadata": {},
     "output_type": "execute_result"
    }
   ],
   "source": [
    "df[data_categoricals].isna().sum()\n",
    "\n",
    "\n",
    "df[data_categoricals] = df[data_categoricals].astype('category')\n",
    "\n",
    "df.dtypes"
   ]
  },
  {
   "cell_type": "code",
   "execution_count": 199,
   "metadata": {},
   "outputs": [],
   "source": [
    "col_floats = list(df.iloc[:,2:-1].columns)"
   ]
  },
  {
   "cell_type": "code",
   "execution_count": 200,
   "metadata": {},
   "outputs": [
    {
     "data": {
      "text/html": [
       "<div>\n",
       "<style scoped>\n",
       "    .dataframe tbody tr th:only-of-type {\n",
       "        vertical-align: middle;\n",
       "    }\n",
       "\n",
       "    .dataframe tbody tr th {\n",
       "        vertical-align: top;\n",
       "    }\n",
       "\n",
       "    .dataframe thead th {\n",
       "        text-align: right;\n",
       "    }\n",
       "</style>\n",
       "<table border=\"1\" class=\"dataframe\">\n",
       "  <thead>\n",
       "    <tr style=\"text-align: right;\">\n",
       "      <th></th>\n",
       "      <th>Liquidez Diária (R$)</th>\n",
       "      <th>P/VP</th>\n",
       "      <th>Dividend Yield</th>\n",
       "      <th>Variação Preço</th>\n",
       "      <th>Patrimônio Líquido</th>\n",
       "    </tr>\n",
       "  </thead>\n",
       "  <tbody>\n",
       "    <tr>\n",
       "      <th>0</th>\n",
       "      <td>5.848,90</td>\n",
       "      <td>0.0</td>\n",
       "      <td>1,03 %</td>\n",
       "      <td>-1,50 %</td>\n",
       "      <td>0</td>\n",
       "    </tr>\n",
       "    <tr>\n",
       "      <th>1</th>\n",
       "      <td>654.462,24</td>\n",
       "      <td>70.0</td>\n",
       "      <td>1,35 %</td>\n",
       "      <td>4,31 %</td>\n",
       "      <td>208.745.497,59</td>\n",
       "    </tr>\n",
       "    <tr>\n",
       "      <th>2</th>\n",
       "      <td>60.839,95</td>\n",
       "      <td>70.0</td>\n",
       "      <td>0,90 %</td>\n",
       "      <td>2,18 %</td>\n",
       "      <td>503.496.718,25</td>\n",
       "    </tr>\n",
       "    <tr>\n",
       "      <th>3</th>\n",
       "      <td>1.111.830,95</td>\n",
       "      <td>94.0</td>\n",
       "      <td>0,00 %</td>\n",
       "      <td>0,00 %</td>\n",
       "      <td>432.224.228,96</td>\n",
       "    </tr>\n",
       "    <tr>\n",
       "      <th>4</th>\n",
       "      <td>383.579,90</td>\n",
       "      <td>0.0</td>\n",
       "      <td>0,81 %</td>\n",
       "      <td>-20,22 %</td>\n",
       "      <td>0</td>\n",
       "    </tr>\n",
       "  </tbody>\n",
       "</table>\n",
       "</div>"
      ],
      "text/plain": [
       "  Liquidez Diária (R$)  P/VP Dividend Yield Variação Preço Patrimônio Líquido\n",
       "0             5.848,90   0.0         1,03 %        -1,50 %                  0\n",
       "1           654.462,24  70.0         1,35 %         4,31 %     208.745.497,59\n",
       "2            60.839,95  70.0         0,90 %         2,18 %     503.496.718,25\n",
       "3         1.111.830,95  94.0         0,00 %         0,00 %     432.224.228,96\n",
       "4           383.579,90   0.0         0,81 %       -20,22 %                  0"
      ]
     },
     "execution_count": 200,
     "metadata": {},
     "output_type": "execute_result"
    }
   ],
   "source": [
    "df[col_floats] = df[col_floats].fillna(value=0)\n",
    "df[col_floats].head()"
   ]
  },
  {
   "cell_type": "code",
   "execution_count": 201,
   "metadata": {},
   "outputs": [
    {
     "data": {
      "text/plain": [
       "Liquidez Diária (R$)    0\n",
       "P/VP                    0\n",
       "Dividend Yield          0\n",
       "Variação Preço          0\n",
       "Patrimônio Líquido      0\n",
       "dtype: int64"
      ]
     },
     "execution_count": 201,
     "metadata": {},
     "output_type": "execute_result"
    }
   ],
   "source": [
    "df[col_floats].isna().sum()"
   ]
  },
  {
   "cell_type": "code",
   "execution_count": 202,
   "metadata": {},
   "outputs": [
    {
     "data": {
      "text/html": [
       "<div>\n",
       "<style scoped>\n",
       "    .dataframe tbody tr th:only-of-type {\n",
       "        vertical-align: middle;\n",
       "    }\n",
       "\n",
       "    .dataframe tbody tr th {\n",
       "        vertical-align: top;\n",
       "    }\n",
       "\n",
       "    .dataframe thead th {\n",
       "        text-align: right;\n",
       "    }\n",
       "</style>\n",
       "<table border=\"1\" class=\"dataframe\">\n",
       "  <thead>\n",
       "    <tr style=\"text-align: right;\">\n",
       "      <th></th>\n",
       "      <th>Liquidez Diária (R$)</th>\n",
       "      <th>P/VP</th>\n",
       "      <th>Dividend Yield</th>\n",
       "      <th>Variação Preço</th>\n",
       "      <th>Patrimônio Líquido</th>\n",
       "    </tr>\n",
       "  </thead>\n",
       "  <tbody>\n",
       "    <tr>\n",
       "      <th>0</th>\n",
       "      <td>5.848,90</td>\n",
       "      <td>0.0</td>\n",
       "      <td>1,03 %</td>\n",
       "      <td>-1,50 %</td>\n",
       "      <td>0</td>\n",
       "    </tr>\n",
       "    <tr>\n",
       "      <th>1</th>\n",
       "      <td>654.462,24</td>\n",
       "      <td>70.0</td>\n",
       "      <td>1,35 %</td>\n",
       "      <td>4,31 %</td>\n",
       "      <td>208.745.497,59</td>\n",
       "    </tr>\n",
       "    <tr>\n",
       "      <th>2</th>\n",
       "      <td>60.839,95</td>\n",
       "      <td>70.0</td>\n",
       "      <td>0,90 %</td>\n",
       "      <td>2,18 %</td>\n",
       "      <td>503.496.718,25</td>\n",
       "    </tr>\n",
       "    <tr>\n",
       "      <th>3</th>\n",
       "      <td>1.111.830,95</td>\n",
       "      <td>94.0</td>\n",
       "      <td>0,00 %</td>\n",
       "      <td>0,00 %</td>\n",
       "      <td>432.224.228,96</td>\n",
       "    </tr>\n",
       "    <tr>\n",
       "      <th>4</th>\n",
       "      <td>383.579,90</td>\n",
       "      <td>0.0</td>\n",
       "      <td>0,81 %</td>\n",
       "      <td>-20,22 %</td>\n",
       "      <td>0</td>\n",
       "    </tr>\n",
       "    <tr>\n",
       "      <th>...</th>\n",
       "      <td>...</td>\n",
       "      <td>...</td>\n",
       "      <td>...</td>\n",
       "      <td>...</td>\n",
       "      <td>...</td>\n",
       "    </tr>\n",
       "    <tr>\n",
       "      <th>510</th>\n",
       "      <td>0</td>\n",
       "      <td>0.0</td>\n",
       "      <td>0,00 %</td>\n",
       "      <td>0,00 %</td>\n",
       "      <td>0</td>\n",
       "    </tr>\n",
       "    <tr>\n",
       "      <th>511</th>\n",
       "      <td>1.353,76</td>\n",
       "      <td>140.0</td>\n",
       "      <td>0,54 %</td>\n",
       "      <td>0,70 %</td>\n",
       "      <td>42.783.877,65</td>\n",
       "    </tr>\n",
       "    <tr>\n",
       "      <th>512</th>\n",
       "      <td>277</td>\n",
       "      <td>103.0</td>\n",
       "      <td>1,24 %</td>\n",
       "      <td>16,56 %</td>\n",
       "      <td>31.110.512,89</td>\n",
       "    </tr>\n",
       "    <tr>\n",
       "      <th>513</th>\n",
       "      <td>204.552,71</td>\n",
       "      <td>64.0</td>\n",
       "      <td>1,11 %</td>\n",
       "      <td>-1,39 %</td>\n",
       "      <td>154.014.555,33</td>\n",
       "    </tr>\n",
       "    <tr>\n",
       "      <th>514</th>\n",
       "      <td>8.794,81</td>\n",
       "      <td>38.0</td>\n",
       "      <td>0,00 %</td>\n",
       "      <td>0,00 %</td>\n",
       "      <td>84.141.677,27</td>\n",
       "    </tr>\n",
       "  </tbody>\n",
       "</table>\n",
       "<p>514 rows × 5 columns</p>\n",
       "</div>"
      ],
      "text/plain": [
       "    Liquidez Diária (R$)   P/VP Dividend Yield Variação Preço  \\\n",
       "0               5.848,90    0.0         1,03 %        -1,50 %   \n",
       "1             654.462,24   70.0         1,35 %         4,31 %   \n",
       "2              60.839,95   70.0         0,90 %         2,18 %   \n",
       "3           1.111.830,95   94.0         0,00 %         0,00 %   \n",
       "4             383.579,90    0.0         0,81 %       -20,22 %   \n",
       "..                   ...    ...            ...            ...   \n",
       "510                    0    0.0         0,00 %         0,00 %   \n",
       "511             1.353,76  140.0         0,54 %         0,70 %   \n",
       "512                  277  103.0         1,24 %        16,56 %   \n",
       "513           204.552,71   64.0         1,11 %        -1,39 %   \n",
       "514             8.794,81   38.0         0,00 %         0,00 %   \n",
       "\n",
       "    Patrimônio Líquido  \n",
       "0                    0  \n",
       "1       208.745.497,59  \n",
       "2       503.496.718,25  \n",
       "3       432.224.228,96  \n",
       "4                    0  \n",
       "..                 ...  \n",
       "510                  0  \n",
       "511      42.783.877,65  \n",
       "512      31.110.512,89  \n",
       "513     154.014.555,33  \n",
       "514      84.141.677,27  \n",
       "\n",
       "[514 rows x 5 columns]"
      ]
     },
     "execution_count": 202,
     "metadata": {},
     "output_type": "execute_result"
    }
   ],
   "source": [
    "df[col_floats]"
   ]
  },
  {
   "cell_type": "code",
   "execution_count": 203,
   "metadata": {},
   "outputs": [],
   "source": [
    "df['Liquidez Diária (R$)'] = (df['Liquidez Diária (R$)']\n",
    "    .apply(lambda x: str(x).replace('.', '').replace(',', '.'))\n",
    "    .astype(float))"
   ]
  },
  {
   "cell_type": "code",
   "execution_count": 204,
   "metadata": {},
   "outputs": [
    {
     "data": {
      "text/html": [
       "<div>\n",
       "<style scoped>\n",
       "    .dataframe tbody tr th:only-of-type {\n",
       "        vertical-align: middle;\n",
       "    }\n",
       "\n",
       "    .dataframe tbody tr th {\n",
       "        vertical-align: top;\n",
       "    }\n",
       "\n",
       "    .dataframe thead th {\n",
       "        text-align: right;\n",
       "    }\n",
       "</style>\n",
       "<table border=\"1\" class=\"dataframe\">\n",
       "  <thead>\n",
       "    <tr style=\"text-align: right;\">\n",
       "      <th></th>\n",
       "      <th>Fundos</th>\n",
       "      <th>Setor</th>\n",
       "      <th>Liquidez Diária (R$)</th>\n",
       "      <th>P/VP</th>\n",
       "      <th>Dividend Yield</th>\n",
       "      <th>Variação Preço</th>\n",
       "      <th>Patrimônio Líquido</th>\n",
       "      <th>Num. Cotistas</th>\n",
       "    </tr>\n",
       "  </thead>\n",
       "  <tbody>\n",
       "    <tr>\n",
       "      <th>0</th>\n",
       "      <td>AAGR11</td>\n",
       "      <td>Indefinido</td>\n",
       "      <td>5848.90</td>\n",
       "      <td>0.0</td>\n",
       "      <td>0.0103</td>\n",
       "      <td>-1,50 %</td>\n",
       "      <td>0</td>\n",
       "      <td>0</td>\n",
       "    </tr>\n",
       "    <tr>\n",
       "      <th>1</th>\n",
       "      <td>AAZQ11</td>\n",
       "      <td>Indefinido</td>\n",
       "      <td>654462.24</td>\n",
       "      <td>70.0</td>\n",
       "      <td>0.0135</td>\n",
       "      <td>4,31 %</td>\n",
       "      <td>208.745.497,59</td>\n",
       "      <td>29.829</td>\n",
       "    </tr>\n",
       "    <tr>\n",
       "      <th>2</th>\n",
       "      <td>ABCP11</td>\n",
       "      <td>Shoppings</td>\n",
       "      <td>60839.95</td>\n",
       "      <td>70.0</td>\n",
       "      <td>0.0090</td>\n",
       "      <td>2,18 %</td>\n",
       "      <td>503.496.718,25</td>\n",
       "      <td>15.558</td>\n",
       "    </tr>\n",
       "    <tr>\n",
       "      <th>3</th>\n",
       "      <td>AFHI11</td>\n",
       "      <td>Papéis</td>\n",
       "      <td>1111830.95</td>\n",
       "      <td>94.0</td>\n",
       "      <td>0.0000</td>\n",
       "      <td>0,00 %</td>\n",
       "      <td>432.224.228,96</td>\n",
       "      <td>42.539</td>\n",
       "    </tr>\n",
       "    <tr>\n",
       "      <th>4</th>\n",
       "      <td>AGRX11</td>\n",
       "      <td>Outros</td>\n",
       "      <td>383579.90</td>\n",
       "      <td>0.0</td>\n",
       "      <td>0.0081</td>\n",
       "      <td>-20,22 %</td>\n",
       "      <td>0</td>\n",
       "      <td>0</td>\n",
       "    </tr>\n",
       "  </tbody>\n",
       "</table>\n",
       "</div>"
      ],
      "text/plain": [
       "   Fundos       Setor  Liquidez Diária (R$)  P/VP  Dividend Yield  \\\n",
       "0  AAGR11  Indefinido               5848.90   0.0          0.0103   \n",
       "1  AAZQ11  Indefinido             654462.24  70.0          0.0135   \n",
       "2  ABCP11   Shoppings              60839.95  70.0          0.0090   \n",
       "3  AFHI11      Papéis            1111830.95  94.0          0.0000   \n",
       "4  AGRX11      Outros             383579.90   0.0          0.0081   \n",
       "\n",
       "  Variação Preço Patrimônio Líquido Num. Cotistas  \n",
       "0        -1,50 %                  0             0  \n",
       "1         4,31 %     208.745.497,59        29.829  \n",
       "2         2,18 %     503.496.718,25        15.558  \n",
       "3         0,00 %     432.224.228,96        42.539  \n",
       "4       -20,22 %                  0             0  "
      ]
     },
     "execution_count": 204,
     "metadata": {},
     "output_type": "execute_result"
    }
   ],
   "source": [
    "df['Dividend Yield'] = df['Dividend Yield'].apply(lambda x: str(x).replace('%', '').replace(',','.')).astype(float)\n",
    "df['Dividend Yield'] = df['Dividend Yield'].div(100)\n",
    "df.head()"
   ]
  },
  {
   "cell_type": "code",
   "execution_count": 205,
   "metadata": {},
   "outputs": [],
   "source": [
    "df['Variação Preço'] = df['Variação Preço'].apply(lambda x: str(x).replace('%', '').replace(',','.')).astype(float)\n",
    "df['Variação Preço'] = df['Variação Preço'].div(100)"
   ]
  },
  {
   "cell_type": "code",
   "execution_count": 206,
   "metadata": {},
   "outputs": [],
   "source": [
    "df['Num. Cotistas'] = df['Num. Cotistas'].apply(lambda x: str(x).replace('.', '')).astype(int)"
   ]
  },
  {
   "cell_type": "code",
   "execution_count": 207,
   "metadata": {},
   "outputs": [],
   "source": [
    "df['Patrimônio Líquido'] = (df['Patrimônio Líquido']\n",
    "    .apply(lambda x: str(x).replace('.', '').replace(',', '.'))\n",
    "    .astype(float))"
   ]
  },
  {
   "cell_type": "code",
   "execution_count": 210,
   "metadata": {},
   "outputs": [],
   "source": [
    "df.dtypes\n",
    "\n",
    "df.to_csv('fiis.csv')"
   ]
  }
 ],
 "metadata": {
  "kernelspec": {
   "display_name": ".venv",
   "language": "python",
   "name": "python3"
  },
  "language_info": {
   "codemirror_mode": {
    "name": "ipython",
    "version": 3
   },
   "file_extension": ".py",
   "mimetype": "text/x-python",
   "name": "python",
   "nbconvert_exporter": "python",
   "pygments_lexer": "ipython3",
   "version": "3.11.2"
  }
 },
 "nbformat": 4,
 "nbformat_minor": 2
}
